{
 "cells": [
  {
   "cell_type": "markdown",
   "id": "a3aee033-5aeb-43a8-bb8b-cfb69fc7a690",
   "metadata": {},
   "source": [
    "***Total: 42 points***\n",
    "\n",
    "Complete this homework by writing R code to complete the following tasks. Keep in mind:\n",
    "\n",
    "i. Empty chunks have been included where code is required\n",
    "ii. For Problem 2e, you should include a image (screen shot), which can be loaded into R\n",
    "iii. This homework requires use of data files:\n",
    "\n",
    "  - `BRCA.genome_wide_snp_6_broad_Level_3_scna.seg` (Problems 1, 2)\n",
    "  - `GIAB_highconf_v.3.3.2.vcf.gz` (Problem 3)\n",
    "  \n",
    "iv. You will be graded on your code and output results (knitted .html file). The assignment is worth 42 points total; partial credit can be awarded.\n",
    "\n",
    "This assignment is due on **Dec 1, 2022**. \n",
    "\n",
    "For additional resources, please refer to these links:  \n",
    "Problems 1 & 2:  \n",
    "  - https://www.bioconductor.org/packages/devel/bioc/vignettes/plyranges/inst/doc/an-introduction.html\n",
    "  - https://bioconductor.org/packages/release/bioc/vignettes/GenomicRanges/inst/doc/GenomicRangesIntroduction.html  \n",
    "Problem 3:  \n",
    "  - https://bioconductor.org/packages/release/bioc/vignettes/Rsamtools/inst/doc/Rsamtools-Overview.pdf  \n",
    "Problem 4: \n",
    "  - https://bioconductor.org/packages/release/bioc/vignettes/VariantAnnotation/inst/doc/VariantAnnotation.pdf  \n",
    "\n",
    "# Problem 1: Overlaps between genomic regions and copy number alterations. (14 points total)\n",
    "\n",
    "### Preparation\n",
    "Load copy number segment results as shown in *2.1 BED format* of *Lecture16_GenomicData.Rmd*. You will use the same file as in the lecture notes, `BRCA.genome_wide_snp_6_broad_Level_3_scna.seg`. Here is code to get you started."
   ]
  },
  {
   "cell_type": "code",
   "execution_count": 1,
   "id": "0860111c-c185-4db0-a325-74242df5cb77",
   "metadata": {
    "vscode": {
     "languageId": "r"
    }
   },
   "outputs": [],
   "source": [
    "#load packages\n",
    "suppressPackageStartupMessages({\n",
    "    library(tidyverse)\n",
    "    library(GenomicRanges)\n",
    "    library(plyranges)\n",
    "    library(VariantAnnotation)\n",
    "})"
   ]
  },
  {
   "cell_type": "code",
   "execution_count": 2,
   "id": "a3e97c4b-9f8b-48df-9a68-5b10683d46dc",
   "metadata": {
    "vscode": {
     "languageId": "r"
    }
   },
   "outputs": [
    {
     "data": {
      "text/html": [
       "'/workspaces/tfcb_2022/homeworks/homework07'"
      ],
      "text/latex": [
       "'/workspaces/tfcb\\_2022/homeworks/homework07'"
      ],
      "text/markdown": [
       "'/workspaces/tfcb_2022/homeworks/homework07'"
      ],
      "text/plain": [
       "[1] \"/workspaces/tfcb_2022/homeworks/homework07\""
      ]
     },
     "metadata": {},
     "output_type": "display_data"
    },
    {
     "data": {
      "text/html": [
       "'/workspaces/tfcb_2022/homeworks/homework07'"
      ],
      "text/latex": [
       "'/workspaces/tfcb\\_2022/homeworks/homework07'"
      ],
      "text/markdown": [
       "'/workspaces/tfcb_2022/homeworks/homework07'"
      ],
      "text/plain": [
       "[1] \"/workspaces/tfcb_2022/homeworks/homework07\""
      ]
     },
     "metadata": {},
     "output_type": "display_data"
    }
   ],
   "source": [
    "#old wdir\n",
    "getwd()\n",
    "\n",
    "#new wdir\n",
    "data_dir = '/workspaces/tfcb_2022/homeworks/homework07'\n",
    "setwd(data_dir)\n",
    "getwd()"
   ]
  },
  {
   "cell_type": "code",
   "execution_count": 8,
   "id": "c4fa1bf8-0ef1-4511-9519-9126499c2327",
   "metadata": {
    "vscode": {
     "languageId": "r"
    }
   },
   "outputs": [
    {
     "data": {
      "text/html": [
       "<style>\n",
       ".list-inline {list-style: none; margin:0; padding: 0}\n",
       ".list-inline>li {display: inline-block}\n",
       ".list-inline>li:not(:last-child)::after {content: \"\\00b7\"; padding: 0 .5ex}\n",
       "</style>\n",
       "<ol class=list-inline><li>'BRCA_IDC_cfDNA.bam'</li><li>'BRCA_IDC_cfDNA.bam.bai'</li><li>'BRCA.genome_wide_snp_6_broad_Level_3_scna.seg'</li><li>'GIAB_highconf_v.3.3.2.vcf.gz'</li><li>'GIAB_highconf_v.3.3.2.vcf.gz.tbi'</li><li>'Homework07.ipynb'</li><li>'homework07.Rmd'</li><li>'hs37d5.fa'</li><li>'README.md'</li></ol>\n"
      ],
      "text/latex": [
       "\\begin{enumerate*}\n",
       "\\item 'BRCA\\_IDC\\_cfDNA.bam'\n",
       "\\item 'BRCA\\_IDC\\_cfDNA.bam.bai'\n",
       "\\item 'BRCA.genome\\_wide\\_snp\\_6\\_broad\\_Level\\_3\\_scna.seg'\n",
       "\\item 'GIAB\\_highconf\\_v.3.3.2.vcf.gz'\n",
       "\\item 'GIAB\\_highconf\\_v.3.3.2.vcf.gz.tbi'\n",
       "\\item 'Homework07.ipynb'\n",
       "\\item 'homework07.Rmd'\n",
       "\\item 'hs37d5.fa'\n",
       "\\item 'README.md'\n",
       "\\end{enumerate*}\n"
      ],
      "text/markdown": [
       "1. 'BRCA_IDC_cfDNA.bam'\n",
       "2. 'BRCA_IDC_cfDNA.bam.bai'\n",
       "3. 'BRCA.genome_wide_snp_6_broad_Level_3_scna.seg'\n",
       "4. 'GIAB_highconf_v.3.3.2.vcf.gz'\n",
       "5. 'GIAB_highconf_v.3.3.2.vcf.gz.tbi'\n",
       "6. 'Homework07.ipynb'\n",
       "7. 'homework07.Rmd'\n",
       "8. 'hs37d5.fa'\n",
       "9. 'README.md'\n",
       "\n",
       "\n"
      ],
      "text/plain": [
       "[1] \"BRCA_IDC_cfDNA.bam\"                           \n",
       "[2] \"BRCA_IDC_cfDNA.bam.bai\"                       \n",
       "[3] \"BRCA.genome_wide_snp_6_broad_Level_3_scna.seg\"\n",
       "[4] \"GIAB_highconf_v.3.3.2.vcf.gz\"                 \n",
       "[5] \"GIAB_highconf_v.3.3.2.vcf.gz.tbi\"             \n",
       "[6] \"Homework07.ipynb\"                             \n",
       "[7] \"homework07.Rmd\"                               \n",
       "[8] \"hs37d5.fa\"                                    \n",
       "[9] \"README.md\"                                    "
      ]
     },
     "metadata": {},
     "output_type": "display_data"
    }
   ],
   "source": [
    "list.files()"
   ]
  },
  {
   "cell_type": "code",
   "execution_count": 9,
   "id": "c16b4e1f-d699-4706-b86f-381e0424ceb8",
   "metadata": {
    "vscode": {
     "languageId": "r"
    }
   },
   "outputs": [],
   "source": [
    "segs <- read.delim(\"BRCA.genome_wide_snp_6_broad_Level_3_scna.seg\", as.is = TRUE)\n",
    "mode(segs$Chromosome) <- \"character\" \n",
    "segs[segs$Chromosome == 23, \"Chromosome\"] <- \"X\"\n",
    "segs.gr <- as(segs, \"GRanges\")"
   ]
  },
  {
   "cell_type": "markdown",
   "id": "fb312886-34f9-4e60-98e1-cb947991cb01",
   "metadata": {},
   "source": [
    "### a. Find the segments in `segs.gr` that have *any* overlap with the region `chr8:128,746,347-128,755,810` (4 points)\n",
    "Print out the first five unique TCGA IDs."
   ]
  },
  {
   "cell_type": "code",
   "execution_count": 10,
   "id": "994e3f59-c2fd-4d08-9935-8236fd6242f9",
   "metadata": {
    "vscode": {
     "languageId": "r"
    }
   },
   "outputs": [
    {
     "name": "stdout",
     "output_type": "stream",
     "text": [
      "[1] \"TCGA-3C-AAAU-10A-01D-A41E-01\" \"TCGA-3C-AAAU-01A-11D-A41E-01\"\n",
      "[3] \"TCGA-3C-AALI-10A-01D-A41E-01\" \"TCGA-3C-AALI-01A-11D-A41E-01\"\n",
      "[5] \"TCGA-3C-AALJ-10A-01D-A41E-01\"\n"
     ]
    }
   ],
   "source": [
    "#myRange variable for GRanges with sequence location of interest\n",
    "myGRange <- GRanges(seqnames = \"8\", ranges = IRanges(start = 128746347, end = 128755810))\n",
    "#overlap of sequences with the Grange and convert to dataframe\n",
    "segs.overlap <- find_overlaps(segs.gr, myGRange) %>%\n",
    "    as.data.frame()\n",
    "#print the first 5 unique (TCGA) IDs\n",
    "print (segs.overlap$Sample[1:5])"
   ]
  },
  {
   "cell_type": "markdown",
   "id": "718c0180-55cb-411c-af90-9b091e51d091",
   "metadata": {},
   "source": [
    "### b. Find the mean of the `Segment_Mean` values for copy number segments that have *any* overlap with the region chr17:37,842,337-37,886,915. (4 points)"
   ]
  },
  {
   "cell_type": "code",
   "execution_count": 11,
   "id": "3962ce70-3f45-4d6c-ad68-4f3cd5bf65a9",
   "metadata": {
    "vscode": {
     "languageId": "r"
    }
   },
   "outputs": [
    {
     "data": {
      "text/html": [
       "0.142019742107603"
      ],
      "text/latex": [
       "0.142019742107603"
      ],
      "text/markdown": [
       "0.142019742107603"
      ],
      "text/plain": [
       "[1] 0.1420197"
      ]
     },
     "metadata": {},
     "output_type": "display_data"
    }
   ],
   "source": [
    "#myRange variable for GRanges with sequence location of interest, new variable name\n",
    "myGRange_1b <- GRanges(seqnames = \"17\", ranges = IRanges(start = 37842337, end = 37886915))\n",
    "#overlap of sequences with the Grange and convert to dataframe\n",
    "segs.overlap_1b <- find_overlaps(segs.gr, myGRange_1b) %>%\n",
    "    as.data.frame() \n",
    "#mean of all segment mean values from segs.overlap_1b \n",
    "mean(segs.overlap_1b$Segment_Mean)"
   ]
  },
  {
   "cell_type": "markdown",
   "id": "6801dbdd-5e78-478d-a522-edebb9cf102b",
   "metadata": {},
   "source": [
    "### c. Find the patient sample distribution of copy number for `PIK3CA` (hg19). (6 points)\n",
    "Find the counts of samples with deletion (D; `Segment_Mean < -0.3`), neutral (N; `Segment_Mean >= -0.3 & Segment_Mean <= 0.3`), gain (G; `Segment_Mean > 0.3`) segments that have `any` overlap with `PIK3CA` gene coordinates.  \n"
   ]
  },
  {
   "cell_type": "code",
   "execution_count": 13,
   "id": "acf1096b-3275-4a8b-b522-71f0d5f31ab3",
   "metadata": {
    "vscode": {
     "languageId": "r"
    }
   },
   "outputs": [
    {
     "ename": "ERROR",
     "evalue": "Error in parse(text = x, srcfile = src): <text>:12:61: unexpected ','\n11: del <- nrow(deletion_seqs)\n12: print(('The counts of samples with deletion segments is %s.',\n                                                                ^\n",
     "output_type": "error",
     "traceback": [
      "Error in parse(text = x, srcfile = src): <text>:12:61: unexpected ','\n11: del <- nrow(deletion_seqs)\n12: print(('The counts of samples with deletion segments is %s.',\n                                                                ^\nTraceback:\n"
     ]
    }
   ],
   "source": [
    "#myRange variable for GRanges with PIK3CA gene sequence location\n",
    "myGRange_PIK3CA <- GRanges(seqnames = \"3\", ranges = IRanges(start = 179148126, end = 179240093))\n",
    "#overlap of sequences with the Grange and convert to dataframe\n",
    "segs.overlap_PIK3CA <- find_overlaps(segs.gr, myGRange_PIK3CA) %>%\n",
    "    as.data.frame()\n",
    "\n",
    "#filter segs.overlap_PIK3CA for Segment_mean less than -0.3 for dels\n",
    "deletion_seqs <- segs.overlap_PIK3CA %>%\n",
    "    filter(Segment_Mean < -0.3)\n",
    "#count samples with deletions by counting the rows\n",
    "del <- nrow(deletion_seqs)\n",
    "sprintf('The counts of samples with deletion segments is %s.', del) #sprintf function\n",
    "\n",
    "#filter segs.overlap_PIK3CA for Segment_mean between -0.3 and 0.3 for neutral segs\n",
    "neutral_seqs <- segs.overlap_PIK3CA %>%\n",
    "    filter(Segment_Mean >= -0.3 & Segment_Mean <= 0.3)\n",
    "#count samples with deletions by counting the rows\n",
    "neutral <- nrow(neutral_seqs)\n",
    "sprintf('The counts of samples with neutral segments is %s.', neutral)\n",
    "\n",
    "#filter segs.overlap_PIK3CA for Segment_mean greater than 0.3 to find gain segments\n",
    "gain_seqs <- segs.overlap_PIK3CA %>%\n",
    "    filter(Segment_Mean > 0.3)\n",
    "#count samples with deletions by counting the rows\n",
    "gain <- nrow(gain_seqs)\n",
    "sprintf('The counts of samples with gain segments is %s.', gain)"
   ]
  },
  {
   "cell_type": "markdown",
   "id": "9b119c29-e953-412e-8585-5a67568e02e3",
   "metadata": {},
   "source": [
    "# Problem 2: Frequency of copy number alteration events within genomic regions. (12 points total) \n",
    "\n",
    "This problem will continue to use the copy number data stored in `segs.gr`.\n",
    "\n",
    "### a. Create a genome-wide tile of 1Mb windows for the human genome (`hg19`). (4 points)\n",
    "See *3.1 Tiling the genome* of *Lecture16_GenomicData.Rmd* for hints.\n"
   ]
  },
  {
   "cell_type": "code",
   "execution_count": null,
   "id": "85719c0e",
   "metadata": {
    "vscode": {
     "languageId": "r"
    }
   },
   "outputs": [],
   "source": []
  },
  {
   "cell_type": "code",
   "execution_count": null,
   "id": "11d9150e-c199-4cf9-8e2f-399f57e06cc8",
   "metadata": {
    "vscode": {
     "languageId": "r"
    }
   },
   "outputs": [],
   "source": []
  },
  {
   "cell_type": "markdown",
   "id": "3601482e-48d6-41dc-9ba9-475f93ef5248",
   "metadata": {},
   "source": [
    "### b. Find the 1Mb window with the most frequent overlapping deletions. (4 points)\n",
    "Find the 1Mb windows with `any` overlap with deletion copy number segments. Assume a deletion segment is defined as a segment in `segs.gr` having `Segment_Mean < -0.3`. \n",
    "\n",
    "Return one of the 1Mb window `Granges` entry with the highest frequency (count) of deletion segments.\n",
    "\n",
    "Hint: Subset the `segs.gr` to only rows with `Segment_Mean < -0.3`. "
   ]
  },
  {
   "cell_type": "markdown",
   "id": "3ba5f12f-347b-4b24-9367-f32547c7e66b",
   "metadata": {},
   "source": [
    "### c. Visually inspect the deletion overlap result from part (b) using IGV. (4 points)\n",
    "Provide a screen shot of IGV at the 1Mb window with the most frequent overlap with deletion segments. The image should include the segments from `BRCA.genome_wide_snp_6_broad_Level_3_scna.seg` loaded. "
   ]
  },
  {
   "cell_type": "code",
   "execution_count": null,
   "id": "732dacc4-b6a1-46e3-9145-0775d01270da",
   "metadata": {
    "vscode": {
     "languageId": "r"
    }
   },
   "outputs": [],
   "source": [
    "#save screenshot and load into R with png package (see: https://stackoverflow.com/questions/23861000/displaying-images-in-r-in-version-3-1-0)\n",
    "#install.packages('png') #install if necessary \n",
    "library(png)\n",
    "pp <- readPNG(\"myfile.png\")\n",
    "plot.new() \n",
    "rasterImage(pp,0,0,1,1)"
   ]
  },
  {
   "cell_type": "markdown",
   "id": "4021471d-985d-4799-879f-430f2449003c",
   "metadata": {
    "tags": []
   },
   "source": [
    "# Problem 3: Reading and annotating genomic variants (16 points total)\n",
    "\n",
    "### Preparation"
   ]
  },
  {
   "cell_type": "code",
   "execution_count": 6,
   "id": "8c7719ca-d70f-4deb-9e1b-afc16586501f",
   "metadata": {
    "vscode": {
     "languageId": "r"
    }
   },
   "outputs": [],
   "source": [
    "vcfFile <- \"GIAB_highconf_v.3.3.2.vcf.gz\""
   ]
  },
  {
   "cell_type": "markdown",
   "id": "eb4f7577-631d-42be-8413-3752869511a1",
   "metadata": {},
   "source": [
    "### a. Load variant data from VCF file `GIAB_highconf_v.3.3.2.vcf.gz` for `chr8:128,700,000-129,000,000`. (4 points)\n",
    "Note: use genome build `hg19`."
   ]
  },
  {
   "cell_type": "code",
   "execution_count": null,
   "id": "d57ee51f-26a9-4ec0-9766-92ae74dbf36e",
   "metadata": {
    "vscode": {
     "languageId": "r"
    }
   },
   "outputs": [],
   "source": []
  },
  {
   "cell_type": "markdown",
   "id": "cf96e3ff-0558-40b2-8d3e-8abd8508a766",
   "metadata": {},
   "source": [
    "### b. Combine the fields of the VCF genotype information into a table. (4 points)\n",
    "You may use your choice of data objects (e.g. `data.frame`)."
   ]
  },
  {
   "cell_type": "code",
   "execution_count": null,
   "id": "8a2902dd-a1c4-4fc6-a541-47b2b133af00",
   "metadata": {
    "vscode": {
     "languageId": "r"
    }
   },
   "outputs": [],
   "source": []
  },
  {
   "cell_type": "markdown",
   "id": "866dc73a-e254-4605-9d8c-750fdafba481",
   "metadata": {},
   "source": [
    "### c. Retrieve the following information at chr8:128747953. (8 points)\n",
    "Print out the SNP ID (i.e. \"rs ID\"), reference base (`REF`), alterate base (`ALT`), genotype (`GT`), depth (`DP`), allele depth (`ADALL`), phase set (`PS`).\n",
    "\n",
    "Hints: \n",
    "\n",
    "  i. `REF` and `ALT` are in the output of `rowRanges(vcf)`. See Section `3a` in `Lecture16_VariantCalls.ipynb` \n",
    "  ii. To get the sequence of `DNAString`, use `as.character(x)`.  \n",
    "  ii. To get the sequence of `DNAStringSet`, use `as.character(unlist(x))`. \n",
    "  iii. To expand a list of information for `geno`, use `unlist(x)`.  \n",
    "\n",
    "  "
   ]
  },
  {
   "cell_type": "code",
   "execution_count": null,
   "id": "fa8d8ad6-7d4b-43f2-a3ae-25a86be3d243",
   "metadata": {
    "vscode": {
     "languageId": "r"
    }
   },
   "outputs": [],
   "source": []
  }
 ],
 "metadata": {
  "kernelspec": {
   "display_name": "R",
   "language": "R",
   "name": "ir"
  },
  "language_info": {
   "codemirror_mode": "r",
   "file_extension": ".r",
   "mimetype": "text/x-r-source",
   "name": "R",
   "pygments_lexer": "r",
   "version": "4.1.3"
  },
  "vscode": {
   "interpreter": {
    "hash": "31f2aee4e71d21fbe5cf8b01ff0e069b9275f58929596ceb00d14d90e3e16cd6"
   }
  }
 },
 "nbformat": 4,
 "nbformat_minor": 5
}
